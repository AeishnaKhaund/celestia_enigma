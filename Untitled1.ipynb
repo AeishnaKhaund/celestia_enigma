{
  "nbformat": 4,
  "nbformat_minor": 0,
  "metadata": {
    "colab": {
      "name": "Untitled1.ipynb",
      "provenance": [],
      "authorship_tag": "ABX9TyOKtXiB+isPbPEo/aTTUbPb",
      "include_colab_link": true
    },
    "kernelspec": {
      "name": "python3",
      "display_name": "Python 3"
    }
  },
  "cells": [
    {
      "cell_type": "markdown",
      "metadata": {
        "id": "view-in-github",
        "colab_type": "text"
      },
      "source": [
        "<a href=\"https://colab.research.google.com/github/AeishnaKhaund/celestia_enigma/blob/master/Untitled1.ipynb\" target=\"_parent\"><img src=\"https://colab.research.google.com/assets/colab-badge.svg\" alt=\"Open In Colab\"/></a>"
      ]
    },
    {
      "cell_type": "code",
      "metadata": {
        "id": "Qdtyiqjhg12I",
        "colab_type": "code",
        "colab": {
          "base_uri": "https://localhost:8080/",
          "height": 191
        },
        "outputId": "5c092f7f-6b74-42e8-ae3d-45572a679970"
      },
      "source": [
        "!pip install py-enigma "
      ],
      "execution_count": 1,
      "outputs": [
        {
          "output_type": "stream",
          "text": [
            "Collecting py-enigma\n",
            "  Downloading https://files.pythonhosted.org/packages/91/4e/44327ad4a5960de12d86d39e1797f3ab67396a17d82182e8fc1b5ef347e5/py-enigma-0.1.tar.gz\n",
            "Building wheels for collected packages: py-enigma\n",
            "  Building wheel for py-enigma (setup.py) ... \u001b[?25l\u001b[?25hdone\n",
            "  Created wheel for py-enigma: filename=py_enigma-0.1-cp36-none-any.whl size=46860 sha256=20a3208d7b5fef09b8c93a384a63393f241d4c862162a93fdb21b1d724664d45\n",
            "  Stored in directory: /root/.cache/pip/wheels/35/5b/fb/f29b74ef2508b1cd3fa78ba14f57888e0a8488daed8672c4cf\n",
            "Successfully built py-enigma\n",
            "Installing collected packages: py-enigma\n",
            "Successfully installed py-enigma-0.1\n"
          ],
          "name": "stdout"
        }
      ]
    }
  ]
}