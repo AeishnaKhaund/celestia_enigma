{
  "nbformat": 4,
  "nbformat_minor": 0,
  "metadata": {
    "colab": {
      "name": "enigma_test_y.ipynb",
      "provenance": [],
      "collapsed_sections": [],
      "authorship_tag": "ABX9TyMBIEFrLzQ7qPDof9PRFSQH",
      "include_colab_link": true
    },
    "kernelspec": {
      "name": "python3",
      "display_name": "Python 3"
    }
  },
  "cells": [
    {
      "cell_type": "markdown",
      "metadata": {
        "id": "view-in-github",
        "colab_type": "text"
      },
      "source": [
        "<a href=\"https://colab.research.google.com/github/AeishnaKhaund/celestia_enigma/blob/test/enigma_test_y.ipynb\" target=\"_parent\"><img src=\"https://colab.research.google.com/assets/colab-badge.svg\" alt=\"Open In Colab\"/></a>"
      ]
    },
    {
      "cell_type": "code",
      "metadata": {
        "id": "YtsIyimyIPfn",
        "colab_type": "code",
        "colab": {
          "base_uri": "https://localhost:8080/",
          "height": 190
        },
        "outputId": "7b6eedc0-0bed-4ad0-c303-7521cd77d035"
      },
      "source": [
        "!pip install py-enigma"
      ],
      "execution_count": 1,
      "outputs": [
        {
          "output_type": "stream",
          "text": [
            "Collecting py-enigma\n",
            "  Downloading https://files.pythonhosted.org/packages/91/4e/44327ad4a5960de12d86d39e1797f3ab67396a17d82182e8fc1b5ef347e5/py-enigma-0.1.tar.gz\n",
            "Building wheels for collected packages: py-enigma\n",
            "  Building wheel for py-enigma (setup.py) ... \u001b[?25l\u001b[?25hdone\n",
            "  Created wheel for py-enigma: filename=py_enigma-0.1-cp36-none-any.whl size=46860 sha256=45c5240fac23d11fc0474a0eb1c569e2f543cc6e4c18b6d5ce5af54bc67c7cce\n",
            "  Stored in directory: /root/.cache/pip/wheels/35/5b/fb/f29b74ef2508b1cd3fa78ba14f57888e0a8488daed8672c4cf\n",
            "Successfully built py-enigma\n",
            "Installing collected packages: py-enigma\n",
            "Successfully installed py-enigma-0.1\n"
          ],
          "name": "stdout"
        }
      ]
    },
    {
      "cell_type": "code",
      "metadata": {
        "id": "pNyQJ21bIyaJ",
        "colab_type": "code",
        "colab": {
          "base_uri": "https://localhost:8080/",
          "height": 34
        },
        "outputId": "9f3f9f79-dc15-4ade-b7f8-94d26f0c7aa1"
      },
      "source": [
        "from enigma.machine import EnigmaMachine\n",
        "\n",
        "machine = EnigmaMachine.from_key_sheet(\n",
        "    rotors='IV V I',\n",
        "    reflector='B',\n",
        "    ring_settings='21 15 16',\n",
        "    plugboard_settings='AC LS BQ WN MY UV FJ PZ TR OK'\n",
        ")\n",
        "\n",
        "machine.set_display('WXC')\n",
        "msg_key = machine.process_text('KCH')\n",
        "\n",
        "ciphertext = 'BCZOOYSRIIYCTRJO'\n",
        "plaintext = machine.process_text(ciphertext)\n",
        "print(plaintext)"
      ],
      "execution_count": 6,
      "outputs": [
        {
          "output_type": "stream",
          "text": [
            "WHOXISXJOHNXGALT\n"
          ],
          "name": "stdout"
        }
      ]
    }
  ]
}