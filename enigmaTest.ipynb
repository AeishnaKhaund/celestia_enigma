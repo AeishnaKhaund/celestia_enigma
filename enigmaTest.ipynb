{
  "nbformat": 4,
  "nbformat_minor": 0,
  "metadata": {
    "colab": {
      "name": "enigmaTest.ipynb",
      "provenance": [],
      "authorship_tag": "ABX9TyOqX1EH7K9DING6lAcpJ7nQ",
      "include_colab_link": true
    },
    "kernelspec": {
      "name": "python3",
      "display_name": "Python 3"
    }
  },
  "cells": [
    {
      "cell_type": "markdown",
      "metadata": {
        "id": "view-in-github",
        "colab_type": "text"
      },
      "source": [
        "<a href=\"https://colab.research.google.com/github/AeishnaKhaund/celestia_enigma/blob/test/enigmaTest.ipynb\" target=\"_parent\"><img src=\"https://colab.research.google.com/assets/colab-badge.svg\" alt=\"Open In Colab\"/></a>"
      ]
    },
    {
      "cell_type": "code",
      "metadata": {
        "id": "Ny-Gppi0U3KI",
        "colab_type": "code",
        "colab": {
          "base_uri": "https://localhost:8080/",
          "height": 34
        },
        "outputId": "64249dc9-bdb2-454b-a674-ef5c79a988e3"
      },
      "source": [
        "!pip install py-enigma\n",
        "\n",
        "from enigma.rotors.rotor import Rotor\n",
        "from enigma.plugboard import Plugboard\n",
        "from enigma.machine import EnigmaMachine\n",
        "\n",
        "r1 = Rotor('my rotor1', 'EKMFLGDQVZNTOWYHXUSPAIBRCJ', ring_setting=0, stepping='Q')\n",
        "r2 = Rotor('my rotor2', 'AJDKSIRUXBLHWTMCQGZNPYFVOE', ring_setting=5, stepping='E')\n",
        "r3 = Rotor('my rotor3', 'BDFHJLCPRTXVZNYEIWGAKMUSQO', ring_setting=15, stepping='V')\n",
        "\n",
        "reflector = Rotor('my reflector', 'FVPJIAOYEDRZXWGCTKUQSBNMHL')\n",
        "\n",
        "pb = Plugboard.from_key_sheet('PO ML IU KJ NH YT GB VF RE DC')\n",
        "\n",
        "machine = EnigmaMachine([r1, r2, r3], reflector, pb)\n"
      ],
      "execution_count": 6,
      "outputs": [
        {
          "output_type": "stream",
          "text": [
            "Requirement already satisfied: py-enigma in /usr/local/lib/python3.6/dist-packages (0.1)\n"
          ],
          "name": "stdout"
        }
      ]
    }
  ]
}