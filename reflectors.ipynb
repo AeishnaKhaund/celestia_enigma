{
  "nbformat": 4,
  "nbformat_minor": 0,
  "metadata": {
    "colab": {
      "name": "reflectors.ipynb",
      "provenance": [],
      "authorship_tag": "ABX9TyP738/RxA6Gz8qeGX0B+2+a",
      "include_colab_link": true
    },
    "kernelspec": {
      "name": "python3",
      "display_name": "Python 3"
    }
  },
  "cells": [
    {
      "cell_type": "markdown",
      "metadata": {
        "id": "view-in-github",
        "colab_type": "text"
      },
      "source": [
        "<a href=\"https://colab.research.google.com/github/AeishnaKhaund/celestia_enigma/blob/test/reflectors.ipynb\" target=\"_parent\"><img src=\"https://colab.research.google.com/assets/colab-badge.svg\" alt=\"Open In Colab\"/></a>"
      ]
    },
    {
      "cell_type": "code",
      "metadata": {
        "id": "bEHxTgCPySLf",
        "colab_type": "code",
        "colab": {
          "base_uri": "https://localhost:8080/",
          "height": 55
        },
        "outputId": "ba19fa20-3f8c-4455-bc70-d69c9f87d625"
      },
      "source": [
        "import random\n",
        "\n",
        "letters = 'abcdefghijklmnopqrstuvwxyz'\n",
        "\n",
        "same = random.randrange(2,5,2) \n",
        "# randomly choosing number of letters which would map to themselves\n",
        "# print(same)\n",
        "\n",
        "letters = list(letters)  \n",
        "\n",
        "random.shuffle(letters)\n",
        "\n",
        "letters_diff = letters[ : -same ]\n",
        "# letters which would map to a different letter\n",
        "\n",
        "letters_same = letters[ -same : ]\n",
        "# letters which would map to themselves\n",
        "\n",
        "dict1 =({ key : value for key, value in zip( letters_diff[::2], letters_diff[1::2] ) } )\n",
        "#  pairing up consecutive letters as key, value pairs\n",
        "\n",
        "inv_dict = { key: value for value, key in dict1.items() }\n",
        "# maintaing symmetry, for eg: 'a' : 'k' and 'k' : 'a'\n",
        "\n",
        "same_dict = {key : value for key, value in zip( letters_same, letters_same )}\n",
        "#  dictionary of same letters, for eg: 'a' : 'a'\n",
        "\n",
        "final_dict = { **dict1, **inv_dict, **same_dict }\n",
        "#  merging the three dictionaries\n",
        "\n",
        "print(final_dict)\n",
        "\n"
      ],
      "execution_count": 1,
      "outputs": [
        {
          "output_type": "stream",
          "text": [
            "{'o': 'l', 'f': 'z', 'b': 'c', 'v': 'n', 't': 'p', 'j': 'x', 'd': 'h', 'i': 'e', 'w': 'g', 'u': 's', 'r': 'k', 'y': 'a', 'l': 'o', 'z': 'f', 'c': 'b', 'n': 'v', 'p': 't', 'x': 'j', 'h': 'd', 'e': 'i', 'g': 'w', 's': 'u', 'k': 'r', 'a': 'y', 'm': 'm', 'q': 'q'}\n"
          ],
          "name": "stdout"
        }
      ]
    },
    {
      "cell_type": "code",
      "metadata": {
        "id": "VhV92h7JyT9M",
        "colab_type": "code",
        "colab": {}
      },
      "source": [
        ""
      ],
      "execution_count": 0,
      "outputs": []
    },
    {
      "cell_type": "markdown",
      "metadata": {
        "id": "NI1HL5Vyy5Nq",
        "colab_type": "text"
      },
      "source": [
        ""
      ]
    }
  ]
}