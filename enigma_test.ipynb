{
  "nbformat": 4,
  "nbformat_minor": 0,
  "metadata": {
    "colab": {
      "name": "enigma_test.ipynb",
      "provenance": [],
      "authorship_tag": "ABX9TyPQflTulT1Ma7nEd9KQyxOE",
      "include_colab_link": true
    },
    "kernelspec": {
      "name": "python3",
      "display_name": "Python 3"
    }
  },
  "cells": [
    {
      "cell_type": "markdown",
      "metadata": {
        "id": "view-in-github",
        "colab_type": "text"
      },
      "source": [
        "<a href=\"https://colab.research.google.com/github/AeishnaKhaund/celestia_enigma/blob/test/enigma_test.ipynb\" target=\"_parent\"><img src=\"https://colab.research.google.com/assets/colab-badge.svg\" alt=\"Open In Colab\"/></a>"
      ]
    },
    {
      "cell_type": "code",
      "metadata": {
        "id": "eBEgiVP-KcL6",
        "colab_type": "code",
        "colab": {
          "base_uri": "https://localhost:8080/",
          "height": 168
        },
        "outputId": "b40a5a2b-178a-41a0-976a-0bbeffc72e16"
      },
      "source": [
        "!pip install py-enigma"
      ],
      "execution_count": 1,
      "outputs": [
        {
          "output_type": "stream",
          "text": [
            "Collecting py-enigma\n",
            "  Downloading https://files.pythonhosted.org/packages/91/4e/44327ad4a5960de12d86d39e1797f3ab67396a17d82182e8fc1b5ef347e5/py-enigma-0.1.tar.gz\n",
            "Building wheels for collected packages: py-enigma\n",
            "  Building wheel for py-enigma (setup.py) ... \u001b[?25l\u001b[?25hdone\n",
            "  Created wheel for py-enigma: filename=py_enigma-0.1-cp36-none-any.whl size=46860 sha256=9d3bd4e5d6e81762c5ef3a3bd0d7e0347c0e17daa9c844028b3f46c73f6e4d8f\n",
            "  Stored in directory: /root/.cache/pip/wheels/35/5b/fb/f29b74ef2508b1cd3fa78ba14f57888e0a8488daed8672c4cf\n",
            "Successfully built py-enigma\n",
            "Installing collected packages: py-enigma\n",
            "Successfully installed py-enigma-0.1\n"
          ],
          "name": "stdout"
        }
      ]
    },
    {
      "cell_type": "code",
      "metadata": {
        "id": "sQ5lUfnYLE-Q",
        "colab_type": "code",
        "colab": {
          "base_uri": "https://localhost:8080/",
          "height": 34
        },
        "outputId": "3e0585e5-5e29-4f73-a329-0fc8cc9633de"
      },
      "source": [
        "from enigma.machine import EnigmaMachine\n",
        "\n",
        "# setup machine according to specs from a daily key sheet:\n",
        "\n",
        "machine = EnigmaMachine.from_key_sheet(\n",
        "       rotors='II IV V',\n",
        "       reflector='B',\n",
        "       ring_settings=[1, 20, 11],\n",
        "       plugboard_settings='AV BS CG DL FU HZ IN KM OW RX')\n",
        "\n",
        "# set machine initial starting position\n",
        "machine.set_display('WXC')\n",
        "\n",
        "# decrypt the message key\n",
        "msg_key = machine.process_text('KCH')\n",
        "\n",
        "# decrypt the cipher text with the unencrypted message key\n",
        "machine.set_display(msg_key)\n",
        "\n",
        "ciphertext = 'NIBLFMYMLLUFWCASCSSNVHAZ'\n",
        "plaintext = machine.process_text(ciphertext)\n",
        "\n",
        "print(plaintext)"
      ],
      "execution_count": 2,
      "outputs": [
        {
          "output_type": "stream",
          "text": [
            "THEXRUSSIANSXAREXCOMINGX\n"
          ],
          "name": "stdout"
        }
      ]
    }
  ]
}